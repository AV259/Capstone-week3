{
    "nbformat_minor": 1, 
    "cells": [
        {
            "source": "# importing libraries\nimport numpy as np # library to handle data in a vectorized manner\nimport pandas as pd # library for data analsysis\nfrom bs4 import BeautifulSoup\nimport requests # library to handle requests\nimport json # library to handle JSON files\nfrom pandas.io.json import json_normalize # tranform JSON file into a pandas dataframe\n\npd.set_option('display.max_columns', None)\npd.set_option('display.max_rows', None)\n\n#!conda install -c conda-forge geopy --yes # uncomment this line if you haven't completed the Foursquare API lab\n#import geopy.geocoders # convert an address into latitude and longitude values\n\n#!conda install -c conda-forge folium=0.5.0 --yes # uncomment this line if you haven't completed the Foursquare API lab\nimport folium # map rendering library\n\nprint('Libraries are imported.')", 
            "cell_type": "code", 
            "metadata": {}, 
            "outputs": [
                {
                    "output_type": "stream", 
                    "name": "stdout", 
                    "text": "Libraries are imported.\n"
                }
            ], 
            "execution_count": 8
        }, 
        {
            "source": "import pandas as pd\nimport numpy as np\nfrom bs4 import BeautifulSoup\nimport requests\n\nwikipedia_link='https://en.wikipedia.org/wiki/List_of_postal_codes_of_Canada:_M'\nraw_wikipedia_page= requests.get(wikipedia_link).text\n\nsoup = BeautifulSoup(raw_wikipedia_page,'lxml')", 
            "cell_type": "code", 
            "metadata": {}, 
            "outputs": [], 
            "execution_count": 9
        }, 
        {
            "source": "table = soup.find('table')\n\nPostcode      = []\nBorough       = []\nNeighbourhood = []\n\n# print(table)\n\nfor tr_cell in table.find_all('tr'):\n    \n    counter = 1\n    Postcode_var      = -1\n    Borough_var       = -1\n    Neighbourhood_var = -1\n    \n    for td_cell in tr_cell.find_all('td'):\n        if counter == 1: \n            Postcode_var = td_cell.text\n        if counter == 2: \n            Borough_var = td_cell.text\n            tag_a_Borough = td_cell.find('a')\n            \n        if counter == 3: \n            Neighbourhood_var = str(td_cell.text).strip()\n            tag_a_Neighbourhood = td_cell.find('a')\n            \n        counter +=1\n        \n    if (Postcode_var == 'Not assigned' or Borough_var == 'Not assigned' or Neighbourhood_var == 'Not assigned'): \n        continue\n    try:\n        if ((tag_a_Borough is None) or (tag_a_Neighbourhood is None)):\n            continue\n    except:\n        pass\n    if(Postcode_var == -1 or Borough_var == -1 or Neighbourhood_var == -1):\n        continue\n        \n    Postcode.append(Postcode_var)\n    Borough.append(Borough_var)\n    Neighbourhood.append(Neighbourhood_var)", 
            "cell_type": "code", 
            "metadata": {}, 
            "outputs": [], 
            "execution_count": 10
        }, 
        {
            "source": "unique_p = set(Postcode)\n# print('num of unique Postal codes:', len(unique_p))\nPostcode_u      = []\nBorough_u       = []\nNeighbourhood_u = []\n\n\nfor postcode_unique_element in unique_p:\n    p_var = ''; b_var = ''; n_var = ''; \n    for postcode_idx, postcode_element in enumerate(Postcode):\n        if postcode_unique_element == postcode_element:\n            p_var = postcode_element;\n            b_var = Borough[postcode_idx]\n            if n_var == '': \n                n_var = Neighbourhood[postcode_idx]\n            else:\n                n_var = n_var + ', ' + Neighbourhood[postcode_idx]\n    Postcode_u.append(p_var)\n    Borough_u.append(b_var)\n    Neighbourhood_u.append(n_var)", 
            "cell_type": "code", 
            "metadata": {}, 
            "outputs": [], 
            "execution_count": 11
        }, 
        {
            "source": "!pip install geocoder\nprint('geocoder has been installed before.')\nfrom geopy.geocoders import Nominatim # convert an address into latitude and longitude values\n\nimport requests # library to handle requests\nprint('geocoder has been successfully imported.')", 
            "cell_type": "code", 
            "metadata": {}, 
            "outputs": [
                {
                    "output_type": "stream", 
                    "name": "stdout", 
                    "text": "Requirement already satisfied: geocoder in /opt/conda/envs/DSX-Python35/lib/python3.5/site-packages (1.38.1)\nRequirement already satisfied: six in /opt/conda/envs/DSX-Python35/lib/python3.5/site-packages (from geocoder) (1.11.0)\nRequirement already satisfied: future in /opt/conda/envs/DSX-Python35/lib/python3.5/site-packages (from geocoder) (0.16.0)\nRequirement already satisfied: ratelim in /opt/conda/envs/DSX-Python35/lib/python3.5/site-packages (from geocoder) (0.1.6)\nRequirement already satisfied: requests in /opt/conda/envs/DSX-Python35/lib/python3.5/site-packages (from geocoder) (2.18.4)\nRequirement already satisfied: click in /opt/conda/envs/DSX-Python35/lib/python3.5/site-packages (from geocoder) (6.7)\nRequirement already satisfied: decorator in /opt/conda/envs/DSX-Python35/lib/python3.5/site-packages (from ratelim->geocoder) (4.1.2)\nRequirement already satisfied: chardet<3.1.0,>=3.0.2 in /opt/conda/envs/DSX-Python35/lib/python3.5/site-packages (from requests->geocoder) (3.0.4)\nRequirement already satisfied: idna<2.7,>=2.5 in /opt/conda/envs/DSX-Python35/lib/python3.5/site-packages (from requests->geocoder) (2.6)\nRequirement already satisfied: urllib3<1.23,>=1.21.1 in /opt/conda/envs/DSX-Python35/lib/python3.5/site-packages (from requests->geocoder) (1.22)\nRequirement already satisfied: certifi>=2017.4.17 in /opt/conda/envs/DSX-Python35/lib/python3.5/site-packages (from requests->geocoder) (2019.3.9)\n\u001b[31mtensorflow 1.3.0 requires tensorflow-tensorboard<0.2.0,>=0.1.0, which is not installed.\u001b[0m\ngeocoder has been installed before.\ngeocoder has been successfully imported.\n"
                }
            ], 
            "execution_count": 15
        }, 
        {
            "source": "toronto_dict = {'Postcode':Postcode_u, 'Borough':Borough_u, 'Neighbourhood':Neighbourhood_u}\ndf_toronto = pd.DataFrame.from_dict(toronto_dict)\ndf_toronto.to_csv('toronto_part1.csv')\ndf_toronto.head(14)", 
            "cell_type": "code", 
            "metadata": {}, 
            "outputs": [
                {
                    "output_type": "execute_result", 
                    "data": {
                        "text/html": "<div>\n<style scoped>\n    .dataframe tbody tr th:only-of-type {\n        vertical-align: middle;\n    }\n\n    .dataframe tbody tr th {\n        vertical-align: top;\n    }\n\n    .dataframe thead th {\n        text-align: right;\n    }\n</style>\n<table border=\"1\" class=\"dataframe\">\n  <thead>\n    <tr style=\"text-align: right;\">\n      <th></th>\n      <th>Borough</th>\n      <th>Neighbourhood</th>\n      <th>Postcode</th>\n    </tr>\n  </thead>\n  <tbody>\n    <tr>\n      <th>0</th>\n      <td>Scarborough</td>\n      <td>Scarborough Village</td>\n      <td>M1J</td>\n    </tr>\n    <tr>\n      <th>1</th>\n      <td>North York</td>\n      <td>Northwood Park, York University</td>\n      <td>M3J</td>\n    </tr>\n    <tr>\n      <th>2</th>\n      <td>Etobicoke</td>\n      <td>Alderwood, Long Branch</td>\n      <td>M8W</td>\n    </tr>\n    <tr>\n      <th>3</th>\n      <td>Downtown Toronto</td>\n      <td>Chinatown, Grange Park, Kensington Market</td>\n      <td>M5T</td>\n    </tr>\n    <tr>\n      <th>4</th>\n      <td>Scarborough</td>\n      <td>Upper Rouge</td>\n      <td>M1X</td>\n    </tr>\n    <tr>\n      <th>5</th>\n      <td>North York</td>\n      <td>Flemingdon Park</td>\n      <td>M3C</td>\n    </tr>\n    <tr>\n      <th>6</th>\n      <td>West Toronto</td>\n      <td>High Park</td>\n      <td>M6P</td>\n    </tr>\n    <tr>\n      <th>7</th>\n      <td>Downtown Toronto</td>\n      <td>Berczy Park</td>\n      <td>M5E</td>\n    </tr>\n    <tr>\n      <th>8</th>\n      <td>North York</td>\n      <td>CFB Toronto</td>\n      <td>M3K</td>\n    </tr>\n    <tr>\n      <th>9</th>\n      <td>Etobicoke</td>\n      <td>Markland Wood</td>\n      <td>M9C</td>\n    </tr>\n    <tr>\n      <th>10</th>\n      <td>Scarborough</td>\n      <td>Highland Creek, Rouge Hill, Port Union</td>\n      <td>M1C</td>\n    </tr>\n    <tr>\n      <th>11</th>\n      <td>Scarborough</td>\n      <td>Ionview, Kennedy Park</td>\n      <td>M1K</td>\n    </tr>\n    <tr>\n      <th>12</th>\n      <td>North York</td>\n      <td>Bayview Village</td>\n      <td>M2K</td>\n    </tr>\n    <tr>\n      <th>13</th>\n      <td>Scarborough</td>\n      <td>Maryvale, Wexford</td>\n      <td>M1R</td>\n    </tr>\n  </tbody>\n</table>\n</div>", 
                        "text/plain": "             Borough                              Neighbourhood Postcode\n0        Scarborough                        Scarborough Village      M1J\n1         North York            Northwood Park, York University      M3J\n2          Etobicoke                     Alderwood, Long Branch      M8W\n3   Downtown Toronto  Chinatown, Grange Park, Kensington Market      M5T\n4        Scarborough                                Upper Rouge      M1X\n5         North York                            Flemingdon Park      M3C\n6       West Toronto                                  High Park      M6P\n7   Downtown Toronto                                Berczy Park      M5E\n8         North York                                CFB Toronto      M3K\n9          Etobicoke                              Markland Wood      M9C\n10       Scarborough     Highland Creek, Rouge Hill, Port Union      M1C\n11       Scarborough                      Ionview, Kennedy Park      M1K\n12        North York                            Bayview Village      M2K\n13       Scarborough                          Maryvale, Wexford      M1R"
                    }, 
                    "execution_count": 16, 
                    "metadata": {}
                }
            ], 
            "execution_count": 16
        }, 
        {
            "source": "latitude = []\nlongitude = []\nfor elem in Postcode_u:\n# initialize your variable to None\n    lat_lng_coords = None\n\n# loop until you get the coordinates\n    while (lat_lng_coords is None):\n        g = geocoder.google('{}, Toronto, Ontario'.format(elem))\n        lat_lng_coords = g.latlng\n        # print(lat_lng_coords)\n\n    latitude.append(lat_lng_coords[0])\n    longitude.append(lat_lng_coords[1])\n    print(elem, 'is RECEIVED.')\n    # print(lat_lng_coords[0])\n    # print(lat_lng_coords[1])", 
            "cell_type": "code", 
            "metadata": {}, 
            "outputs": [], 
            "execution_count": null
        }, 
        {
            "source": "M4X is RECEIVED.\nM4G is RECEIVED.\nM9M is RECEIVED.\nM1W is RECEIVED.\nM1J is RECEIVED.\nM9P is RECEIVED.\nM1G is RECEIVED.\nM4J is RECEIVED.\nM8Y is RECEIVED.\nM5A is RECEIVED.\nM1C is RECEIVED.\nM5L is RECEIVED.\nM8V is RECEIVED.\nM6R is RECEIVED.\nM8Z is RECEIVED.\nM5M is RECEIVED.\nM1N is RECEIVED.\nM2H is RECEIVED.\nM4C is RECEIVED.\nM3K is RECEIVED.\nM6P is RECEIVED.\nM9C is RECEIVED.\nM4B is RECEIVED.\nM4E is RECEIVED.\nM4K is RECEIVED.\nM9R is RECEIVED.\nM6L is RECEIVED.\nM4V is RECEIVED.\nM5X is RECEIVED.\nM4L is RECEIVED.\nM9L is RECEIVED.\nM1R is RECEIVED.\nM6A is RECEIVED.\nM3C is RECEIVED.\nM1V is RECEIVED.\nM5K is RECEIVED.\nM1H is RECEIVED.\nM3H is RECEIVED.\nM9N is RECEIVED.\nM6B is RECEIVED.\nM6M is RECEIVED.\nM1T is RECEIVED.\nM5B is RECEIVED.\nM8W is RECEIVED.\nM5P is RECEIVED.\nM5T is RECEIVED.\nM3L is RECEIVED.\nM3A is RECEIVED.\nM9A is RECEIVED.\nM1M is RECEIVED.\nM4H is RECEIVED.\nM5C is RECEIVED.\nM6J is RECEIVED.\nM6S is RECEIVED.\nM1E is RECEIVED.\nM5S is RECEIVED.\nM4T is RECEIVED.\nM5H is RECEIVED.\nM9B is RECEIVED.\nM2J is RECEIVED.\nM6K is RECEIVED.\nM1B is RECEIVED.\nM2K is RECEIVED.\nM4Y is RECEIVED.\nM1S is RECEIVED.\nM5R is RECEIVED.\nM6H is RECEIVED.\nM1K is RECEIVED.\nM8X is RECEIVED.\nM3J is RECEIVED.\nM1P is RECEIVED.\nM1X is RECEIVED.\nM5J is RECEIVED.\nM4W is RECEIVED.\nM2M is RECEIVED.\nM1L is RECEIVED.\nM2R is RECEIVED.\nM4N is RECEIVED.\nM9W is RECEIVED.\nM4A is RECEIVED.\nM5V is RECEIVED.\nM5E is RECEIVED.\nM9V is RECEIVED.\nM2L is RECEIVED.", 
            "cell_type": "markdown", 
            "metadata": {}
        }, 
        {
            "source": "toronto_dict = {'Postcode':Postcode_u, 'Borough':Borough_u, 'Neighbourhood':Neighbourhood_u,\n              'Latitude': latitude, 'Longitude':longitude}\ndf_toronto = pd.DataFrame.from_dict(toronto_dict)\ndf_toronto.to_csv('toronto_base.csv')", 
            "cell_type": "code", 
            "metadata": {}, 
            "outputs": [], 
            "execution_count": null
        }, 
        {
            "source": "toronto_latitude = 43.6532; toronto_longitude = -79.3832\nmap_toronto = folium.Map(location = [toronto_latitude, toronto_longitude], zoom_start = 10.7)\n\n# add markers to map\nfor lat, lng, borough, neighborhood in zip(df_toronto['Latitude'], df_toronto['Longitude'], df_toronto['Borough'], df_toronto['Neighbourhood']):\n    label = '{}, {}'.format(neighborhood, borough)\n    label = folium.Popup(label, parse_html=True)\n    folium.CircleMarker(\n        [lat, lng],\n        radius=5,\n        popup=label,\n        color='blue',\n        fill=True,\n        fill_color='#3186cc',\n        fill_opacity=0.7).add_to(map_toronto)  \n    \n", 
            "cell_type": "code", 
            "metadata": {}, 
            "outputs": [], 
            "execution_count": null
        }, 
        {
            "source": "scarborough_data = df_toronto[df_toronto['Borough'] == 'Scarborough'].reset_index(drop=True)", 
            "cell_type": "code", 
            "metadata": {}, 
            "outputs": [], 
            "execution_count": null
        }, 
        {
            "source": "address_scar = 'Scarborough,Toronto'\nlatitude_scar = 43.773077\nlongitude_scar = -79.257774\nprint('The geograpical coordinate of Scarborough are {}, {}.'.format(latitude_scar, longitude_scar))", 
            "cell_type": "code", 
            "metadata": {
                "scrolled": true
            }, 
            "outputs": [
                {
                    "output_type": "stream", 
                    "name": "stdout", 
                    "text": "The geograpical coordinate of Scarborough are 43.773077, -79.257774.\n"
                }
            ], 
            "execution_count": 18
        }, 
        {
            "source": "map_scarb = folium.Map(location=[latitude_scar, longitude_scar], zoom_start=12)\n\n# add markers to map\nfor lat, lng, label in zip(scarborough_data['Latitude'], scarborough_data['Longitude'], scarborough_data['Neighbourhood']):\n    label = folium.Popup(label, parse_html=True)\n    folium.CircleMarker(\n        [lat, lng],\n        radius=5,\n        popup=label,\n        color='blue',\n        fill=True,\n        fill_color='#3186cc',\n        fill_opacity=0.7).add_to(map_scarb)  ", 
            "cell_type": "code", 
            "metadata": {}, 
            "outputs": [], 
            "execution_count": null
        }, 
        {
            "source": "toronto_latitude = 43.6932; toronto_longitude = -79.3832\nmap_toronto = folium.Map(location = [toronto_latitude, toronto_longitude], zoom_start = 10.7)\n\n# add markers to map\nfor lat, lng, borough, neighborhood in zip(df_toronto['Latitude'], df_toronto['Longitude'], df_toronto['Borough'], df_toronto['Neighbourhood']):\n    label = '{}, {}'.format(neighborhood, borough)\n    label = folium.Popup(label, parse_html=True)\n    folium.CircleMarker(\n        [lat, lng],\n        radius=5,\n        popup=label,\n        color='blue',\n        fill=True,\n        fill_color='#3186cc',\n        fill_opacity=0.7).add_to(map_toronto)  \n    ", 
            "cell_type": "code", 
            "metadata": {}, 
            "outputs": [], 
            "execution_count": null
        }, 
        {
            "source": "scarborough_data = df_toronto[df_toronto['Borough'] == 'Scarborough']\nscarborough_data = scarborough_data.reset_index(drop=True).drop(columns = 'Unnamed: 0')", 
            "cell_type": "code", 
            "metadata": {}, 
            "outputs": [], 
            "execution_count": null
        }, 
        {
            "source": "address_scar = 'Scarborough, Toronto'\nlatitude_scar = 43.773077\nlongitude_scar = -79.257774\nprint('The geograpical coordinate of \"Scarborough\" are: {}, {}.'.format(latitude_scar, longitude_scar))\n\nmap_Scarborough = folium.Map(location=[latitude_scar, longitude_scar], zoom_start=11.5)\n\n# add markers to map\nfor lat, lng, label in zip(scarborough_data['Latitude'], scarborough_data['Longitude'], scarborough_data['Neighbourhood']):\n    label = folium.Popup(label, parse_html=True)\n    folium.CircleMarker(\n        [lat, lng],\n        radius = 10,\n        popup = label,\n        color ='blue',\n        fill = True,\n        fill_color = '#3186cc',\n        fill_opacity = 0.7).add_to(map_Scarborough)  \n    \nmap_Scarborough", 
            "cell_type": "code", 
            "metadata": {}, 
            "outputs": [], 
            "execution_count": null
        }, 
        {
            "source": "The geograpical coordinate of \"Scarborough\" are: 43.773077, -79.257774.", 
            "cell_type": "markdown", 
            "metadata": {}
        }, 
        {
            "source": "def foursquare_crawler (postal_code_list, neighborhood_list, lat_list, lng_list, LIMIT = 500, radius = 1000):\n    result_ds = []\n    counter = 0\n    for postal_code, neighborhood, lat, lng in zip(postal_code_list, neighborhood_list, lat_list, lng_list):\n         \n        # create the API request URL\n        url = 'https://api.foursquare.com/v2/venues/explore?&client_id={}&client_secret={}&v={}&ll={},{}&radius={}&limit={}'.format(\n            CLIENT_ID, CLIENT_SECRET, VERSION, \n            lat, lng, radius, LIMIT)\n            \n        # make the GET request\n        results = requests.get(url).json()[\"response\"]['groups'][0]['items']\n        tmp_dict = {}\n        tmp_dict['Postal Code'] = postal_code; tmp_dict['Neighborhood(s)'] = neighborhood; \n        tmp_dict['Latitude'] = lat; tmp_dict['Longitude'] = lng;\n        tmp_dict['Crawling_result'] = results;\n        result_ds.append(tmp_dict)\n        counter += 1\n        print('{}.'.format(counter))\n        print('Data is Obtained, for the Postal Code {} (and Neighborhoods {}) SUCCESSFULLY.'.format(postal_code, neighborhood))\n    return result_ds;", 
            "cell_type": "code", 
            "metadata": {}, 
            "outputs": [], 
            "execution_count": null
        }, 
        {
            "source": "import pickle\nwith open(\"Scarborough_foursquare_dataset.txt\", \"wb\") as fp:   #Pickling\n    pickle.dump(Scarborough_foursquare_dataset, fp)\nprint('Received Data from Internet is Saved to Computer.')", 
            "cell_type": "code", 
            "metadata": {}, 
            "outputs": [], 
            "execution_count": null
        }, 
        {
            "source": "with open(\"Scarborough_foursquare_dataset.txt\", \"rb\") as fp:   # Unpickling\n    Scarborough_foursquare_dataset = pickle.load(fp)\n# print(type(Scarborough_foursquare_dataset))\n# Scarborough_foursquare_dataset", 
            "cell_type": "code", 
            "metadata": {}, 
            "outputs": [], 
            "execution_count": null
        }, 
        {
            "source": "def get_venue_dataset(foursquare_dataset):\n    result_df = pd.DataFrame(columns = ['Postal Code', 'Neighborhood', \n                                           'Neighborhood Latitude', 'Neighborhood Longitude',\n                                          'Venue', 'Venue Summary', 'Venue Category', 'Distance'])\n    # print(result_df)\n    \n    for neigh_dict in foursquare_dataset:\n        postal_code = neigh_dict['Postal Code']; neigh = neigh_dict['Neighborhood(s)']\n        lat = neigh_dict['Latitude']; lng = neigh_dict['Longitude']\n        print('Number of Venuse in Coordination \"{}\" Posal Code and \"{}\" Negihborhood(s) is:'.format(postal_code, neigh))\n        print(len(neigh_dict['Crawling_result']))\n        \n        for venue_dict in neigh_dict['Crawling_result']:\n            summary = venue_dict['reasons']['items'][0]['summary']\n            name = venue_dict['venue']['name']\n            dist = venue_dict['venue']['location']['distance']\n            cat =  venue_dict['venue']['categories'][0]['name']\n            \n            \n            # print({'Postal Code': postal_code, 'Neighborhood': neigh, \n            #                   'Neighborhood Latitude': lat, 'Neighborhood Longitude':lng,\n            #                   'Venue': name, 'Venue Summary': summary, \n            #                   'Venue Category': cat, 'Distance': dist})\n            \n            result_df = result_df.append({'Postal Code': postal_code, 'Neighborhood': neigh, \n                              'Neighborhood Latitude': lat, 'Neighborhood Longitude':lng,\n                              'Venue': name, 'Venue Summary': summary, \n                              'Venue Category': cat, 'Distance': dist}, ignore_index = True)\n            # print(result_df)\n    \n    return(result_df)", 
            "cell_type": "code", 
            "metadata": {}, 
            "outputs": [], 
            "execution_count": null
        }, 
        {
            "source": "", 
            "cell_type": "code", 
            "metadata": {}, 
            "outputs": [], 
            "execution_count": null
        }
    ], 
    "metadata": {
        "kernelspec": {
            "display_name": "Python 3.5", 
            "name": "python3", 
            "language": "python"
        }, 
        "language_info": {
            "mimetype": "text/x-python", 
            "nbconvert_exporter": "python", 
            "version": "3.5.5", 
            "name": "python", 
            "pygments_lexer": "ipython3", 
            "file_extension": ".py", 
            "codemirror_mode": {
                "version": 3, 
                "name": "ipython"
            }
        }
    }, 
    "nbformat": 4
}